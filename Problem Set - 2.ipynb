{
 "cells": [
  {
   "cell_type": "markdown",
   "id": "ce2c3931",
   "metadata": {},
   "source": [
    "# Data Programming"
   ]
  },
  {
   "cell_type": "markdown",
   "id": "bab961fd",
   "metadata": {},
   "source": [
    "## Problem Set 2"
   ]
  },
  {
   "cell_type": "markdown",
   "id": "2f5409d6",
   "metadata": {},
   "source": [
    "   \n",
    "   "
   ]
  },
  {
   "cell_type": "markdown",
   "id": "2d15e78b",
   "metadata": {},
   "source": [
    "### Question 1"
   ]
  },
  {
   "cell_type": "code",
   "execution_count": 2,
   "id": "acccac97",
   "metadata": {},
   "outputs": [],
   "source": [
    "a = 0\n",
    "\n",
    "def b():\n",
    "    global a\n",
    "    a = c(a)\n",
    "\n",
    "def c(a):\n",
    "    return a + 2"
   ]
  },
  {
   "cell_type": "code",
   "execution_count": 3,
   "id": "9b33d84e",
   "metadata": {},
   "outputs": [],
   "source": [
    "b()\n"
   ]
  },
  {
   "cell_type": "code",
   "execution_count": 4,
   "id": "abff71f8",
   "metadata": {},
   "outputs": [],
   "source": [
    "b()"
   ]
  },
  {
   "cell_type": "code",
   "execution_count": 5,
   "id": "6f2d9057",
   "metadata": {},
   "outputs": [],
   "source": [
    "b()"
   ]
  },
  {
   "cell_type": "code",
   "execution_count": 6,
   "id": "a1f4bb5b",
   "metadata": {},
   "outputs": [
    {
     "data": {
      "text/plain": [
       "6"
      ]
     },
     "execution_count": 6,
     "metadata": {},
     "output_type": "execute_result"
    }
   ],
   "source": [
    "a"
   ]
  },
  {
   "cell_type": "markdown",
   "id": "5a541ca1",
   "metadata": {},
   "source": [
    "In the above program 'a' is given an initial value 0. In function 'b', 'a' is defined as global variable and then the value of function 'c' output is assigned to 'a'. Function 'c' is defined to return the output by adding 2 to the input. \n",
    "\n",
    "Thus by executing function 'b' for first time the value of 'a' which is zero is added by 2 and is stored in 'a'; thus 'a' = 2. This step is repeated two more times and hence the value of 'a' became 6 which was the output."
   ]
  },
  {
   "cell_type": "markdown",
   "id": "213a5857",
   "metadata": {},
   "source": [
    "\n"
   ]
  },
  {
   "cell_type": "markdown",
   "id": "8d659ce7",
   "metadata": {},
   "source": [
    "### Question 2"
   ]
  },
  {
   "cell_type": "code",
   "execution_count": 9,
   "id": "2f5b3934",
   "metadata": {},
   "outputs": [],
   "source": [
    "def file_length(file_name):\n",
    "    try:\n",
    "        file = open(file_name)\n",
    "        contents = file.read()\n",
    "        file.close()\n",
    "        print(len(contents))\n",
    "    except FileNotFoundError:\n",
    "        print(f\"Error: File '{file_name}' not found.\")\n",
    "    except:\n",
    "        print(f\"Error: Could not read file '{file_name}'.\")"
   ]
  },
  {
   "cell_type": "code",
   "execution_count": 12,
   "id": "393295f7",
   "metadata": {},
   "outputs": [
    {
     "name": "stdout",
     "output_type": "stream",
     "text": [
      "12\n"
     ]
    }
   ],
   "source": [
    "file_length('midterm.txt')"
   ]
  },
  {
   "cell_type": "markdown",
   "id": "d06c81e6",
   "metadata": {},
   "source": [
    "I created a file 'midterm.txt' to make sure the code is reading files accurately."
   ]
  },
  {
   "cell_type": "code",
   "execution_count": 14,
   "id": "70c2a4b4",
   "metadata": {},
   "outputs": [
    {
     "name": "stdout",
     "output_type": "stream",
     "text": [
      "Error: File 'idterm.py' not found.\n"
     ]
    }
   ],
   "source": [
    "file_length('idterm.py')"
   ]
  },
  {
   "cell_type": "markdown",
   "id": "24b0cb25",
   "metadata": {},
   "source": [
    "     "
   ]
  },
  {
   "cell_type": "markdown",
   "id": "79158b17",
   "metadata": {},
   "source": [
    "### Question 3"
   ]
  },
  {
   "cell_type": "code",
   "execution_count": 30,
   "id": "1e5f3f5d",
   "metadata": {},
   "outputs": [],
   "source": [
    "class Marsupial:\n",
    "    def __init__(self):\n",
    "        self.pouch = []\n",
    "    \n",
    "    def put_in_pouch(self, item):\n",
    "        self.pouch.append(item)\n",
    "    \n",
    "    def pouch_contents(self):\n",
    "        return self.pouch"
   ]
  },
  {
   "cell_type": "code",
   "execution_count": 31,
   "id": "66ac89b2",
   "metadata": {},
   "outputs": [],
   "source": [
    "m = Marsupial()"
   ]
  },
  {
   "cell_type": "code",
   "execution_count": 32,
   "id": "b1763684",
   "metadata": {},
   "outputs": [],
   "source": [
    "m.put_in_pouch('doll')"
   ]
  },
  {
   "cell_type": "code",
   "execution_count": 33,
   "id": "9161f201",
   "metadata": {},
   "outputs": [],
   "source": [
    "m.put_in_pouch('firetruck')"
   ]
  },
  {
   "cell_type": "code",
   "execution_count": 34,
   "id": "02d32b74",
   "metadata": {},
   "outputs": [],
   "source": [
    "m.put_in_pouch('kitten')"
   ]
  },
  {
   "cell_type": "code",
   "execution_count": 35,
   "id": "b1362765",
   "metadata": {},
   "outputs": [
    {
     "name": "stdout",
     "output_type": "stream",
     "text": [
      "['doll', 'firetruck', 'kitten']\n"
     ]
    }
   ],
   "source": [
    "print(m.pouch_contents())"
   ]
  },
  {
   "cell_type": "code",
   "execution_count": 36,
   "id": "f2ec9c15",
   "metadata": {},
   "outputs": [],
   "source": [
    "class Kangaroo(Marsupial):\n",
    "    def __init__(self, x, y):\n",
    "        super().__init__()\n",
    "        self.x = x\n",
    "        self.y = y\n",
    "    \n",
    "    def jump(self, dx, dy):\n",
    "        self.x += dx\n",
    "        self.y += dy\n",
    "    \n",
    "    def __str__(self):\n",
    "        return f\"I am a Kangaroo located at coordinates ({self.x},{self.y})\""
   ]
  },
  {
   "cell_type": "code",
   "execution_count": 37,
   "id": "4802e534",
   "metadata": {},
   "outputs": [],
   "source": [
    "k = Kangaroo(0,0)"
   ]
  },
  {
   "cell_type": "code",
   "execution_count": 38,
   "id": "4c7ea1be",
   "metadata": {},
   "outputs": [
    {
     "name": "stdout",
     "output_type": "stream",
     "text": [
      "I am a Kangaroo located at coordinates (0,0)\n"
     ]
    }
   ],
   "source": [
    "print(k)"
   ]
  },
  {
   "cell_type": "code",
   "execution_count": 39,
   "id": "59bf7a8c",
   "metadata": {},
   "outputs": [],
   "source": [
    "k.put_in_pouch('doll')"
   ]
  },
  {
   "cell_type": "code",
   "execution_count": 40,
   "id": "b0ca79e5",
   "metadata": {},
   "outputs": [],
   "source": [
    "k.put_in_pouch('firetruck')"
   ]
  },
  {
   "cell_type": "code",
   "execution_count": 41,
   "id": "432c293f",
   "metadata": {},
   "outputs": [],
   "source": [
    "k.put_in_pouch('kitten')"
   ]
  },
  {
   "cell_type": "code",
   "execution_count": 42,
   "id": "167c0abd",
   "metadata": {},
   "outputs": [
    {
     "data": {
      "text/plain": [
       "['doll', 'firetruck', 'kitten']"
      ]
     },
     "execution_count": 42,
     "metadata": {},
     "output_type": "execute_result"
    }
   ],
   "source": [
    "k.pouch_contents()"
   ]
  },
  {
   "cell_type": "code",
   "execution_count": 43,
   "id": "a3aec72d",
   "metadata": {},
   "outputs": [],
   "source": [
    "k.jump(1,0)"
   ]
  },
  {
   "cell_type": "code",
   "execution_count": 44,
   "id": "e11cae28",
   "metadata": {},
   "outputs": [],
   "source": [
    "k.jump(1,0)"
   ]
  },
  {
   "cell_type": "code",
   "execution_count": 45,
   "id": "d2a29e58",
   "metadata": {},
   "outputs": [],
   "source": [
    "k.jump(1,0)"
   ]
  },
  {
   "cell_type": "code",
   "execution_count": 46,
   "id": "825a34a7",
   "metadata": {},
   "outputs": [
    {
     "name": "stdout",
     "output_type": "stream",
     "text": [
      "I am a Kangaroo located at coordinates (3,0)\n"
     ]
    }
   ],
   "source": [
    "print(k)"
   ]
  },
  {
   "cell_type": "markdown",
   "id": "aa66bc5d",
   "metadata": {},
   "source": [
    "   "
   ]
  },
  {
   "cell_type": "markdown",
   "id": "45f789ee",
   "metadata": {},
   "source": [
    "### Question 4"
   ]
  },
  {
   "cell_type": "code",
   "execution_count": 47,
   "id": "0299a408",
   "metadata": {},
   "outputs": [],
   "source": [
    "def collatz(x):\n",
    "    print(x, end=' ')\n",
    "    if x == 1:\n",
    "        return\n",
    "    elif x % 2 == 0:\n",
    "        collatz(x // 2)\n",
    "    else:\n",
    "        collatz(3 * x + 1)"
   ]
  },
  {
   "cell_type": "code",
   "execution_count": 48,
   "id": "f4cc5fc4",
   "metadata": {},
   "outputs": [
    {
     "name": "stdout",
     "output_type": "stream",
     "text": [
      "1 "
     ]
    }
   ],
   "source": [
    "collatz(1)"
   ]
  },
  {
   "cell_type": "code",
   "execution_count": 49,
   "id": "af47dccf",
   "metadata": {},
   "outputs": [
    {
     "name": "stdout",
     "output_type": "stream",
     "text": [
      "10 5 16 8 4 2 1 "
     ]
    }
   ],
   "source": [
    "collatz(10)"
   ]
  },
  {
   "cell_type": "markdown",
   "id": "3b720fec",
   "metadata": {},
   "source": [
    "    "
   ]
  },
  {
   "cell_type": "markdown",
   "id": "317fcd48",
   "metadata": {},
   "source": [
    "### Questions 5"
   ]
  },
  {
   "cell_type": "code",
   "execution_count": 50,
   "id": "7ab5e036",
   "metadata": {},
   "outputs": [],
   "source": [
    "def binary(n):\n",
    "    if n < 2:\n",
    "        print(n, end='')\n",
    "    else:\n",
    "        binary(n // 2)\n",
    "        print(n % 2, end='')"
   ]
  },
  {
   "cell_type": "code",
   "execution_count": 51,
   "id": "b209677d",
   "metadata": {},
   "outputs": [
    {
     "name": "stdout",
     "output_type": "stream",
     "text": [
      "0"
     ]
    }
   ],
   "source": [
    "binary(0)"
   ]
  },
  {
   "cell_type": "code",
   "execution_count": 52,
   "id": "9da51aff",
   "metadata": {},
   "outputs": [
    {
     "name": "stdout",
     "output_type": "stream",
     "text": [
      "1"
     ]
    }
   ],
   "source": [
    "binary(1)"
   ]
  },
  {
   "cell_type": "code",
   "execution_count": 53,
   "id": "16fb785a",
   "metadata": {},
   "outputs": [
    {
     "name": "stdout",
     "output_type": "stream",
     "text": [
      "11"
     ]
    }
   ],
   "source": [
    "binary(3)"
   ]
  },
  {
   "cell_type": "code",
   "execution_count": 54,
   "id": "6d2dbd13",
   "metadata": {},
   "outputs": [
    {
     "name": "stdout",
     "output_type": "stream",
     "text": [
      "1001"
     ]
    }
   ],
   "source": [
    "binary(9)"
   ]
  },
  {
   "cell_type": "markdown",
   "id": "9541e7b3",
   "metadata": {},
   "source": [
    "    "
   ]
  },
  {
   "cell_type": "markdown",
   "id": "ff3a735a",
   "metadata": {},
   "source": [
    "### Question 8"
   ]
  },
  {
   "cell_type": "markdown",
   "id": "1bc7c971",
   "metadata": {},
   "source": [
    "a) All the temperature data."
   ]
  },
  {
   "cell_type": "code",
   "execution_count": null,
   "id": "42389ca2",
   "metadata": {},
   "outputs": [],
   "source": [
    "SELECT Temperature FROM table_name;"
   ]
  },
  {
   "cell_type": "markdown",
   "id": "32970cb9",
   "metadata": {},
   "source": [
    "b) All the cities, but without repetition"
   ]
  },
  {
   "cell_type": "code",
   "execution_count": null,
   "id": "a2f1be2b",
   "metadata": {},
   "outputs": [],
   "source": [
    "SELECT DISTINCT City FROM table_name;"
   ]
  },
  {
   "cell_type": "markdown",
   "id": "7ca113a1",
   "metadata": {},
   "source": [
    "c) All the records for India."
   ]
  },
  {
   "cell_type": "code",
   "execution_count": null,
   "id": "211fe926",
   "metadata": {},
   "outputs": [],
   "source": [
    "SELECT * FROM table_name WHERE Country=\"India\";"
   ]
  },
  {
   "cell_type": "markdown",
   "id": "cd134932",
   "metadata": {},
   "source": [
    "d) All the Fall records."
   ]
  },
  {
   "cell_type": "code",
   "execution_count": null,
   "id": "cc1fdc62",
   "metadata": {},
   "outputs": [],
   "source": [
    "SELECT * FROM table_name WHERE Season=\"Fall\";"
   ]
  },
  {
   "cell_type": "markdown",
   "id": "072be680",
   "metadata": {},
   "source": [
    "e) The city, country, and season for which the average rainfall is between 200 and 400 millimeters."
   ]
  },
  {
   "cell_type": "code",
   "execution_count": null,
   "id": "5a1caaff",
   "metadata": {},
   "outputs": [],
   "source": [
    "SELECT City, Country, Season FROM table_name WHERE Rainfall BETWEEN 200 AND 400 ;"
   ]
  },
  {
   "cell_type": "markdown",
   "id": "2be35777",
   "metadata": {},
   "source": [
    "f) The city and country for which the average Fall temperature is above 20 degrees, in increasing temperature order."
   ]
  },
  {
   "cell_type": "code",
   "execution_count": null,
   "id": "8a236b69",
   "metadata": {},
   "outputs": [],
   "source": [
    "SELECT City, Country FROM table_name WHERE Season=\"Fall\" AND Temperature > 20 ORDER BY Temperature ASC;"
   ]
  },
  {
   "cell_type": "markdown",
   "id": "b14c01c1",
   "metadata": {},
   "source": [
    "g) The total annual rainfall for Cairo."
   ]
  },
  {
   "cell_type": "code",
   "execution_count": null,
   "id": "741c2476",
   "metadata": {},
   "outputs": [],
   "source": [
    "SELECT SUM(Rainfall) FROM table_name WHERE City=\"Cairo\";"
   ]
  },
  {
   "cell_type": "markdown",
   "id": "ae908c9e",
   "metadata": {},
   "source": [
    "h) The total rainfall for each season."
   ]
  },
  {
   "cell_type": "code",
   "execution_count": null,
   "id": "e839e194",
   "metadata": {},
   "outputs": [],
   "source": [
    "SELECT Season, SUM(Rainfall) FROM table_name GROUP BY Season"
   ]
  },
  {
   "cell_type": "markdown",
   "id": "b8b0819d",
   "metadata": {},
   "source": [
    "  \n",
    "  "
   ]
  },
  {
   "cell_type": "markdown",
   "id": "c3e4b549",
   "metadata": {},
   "source": [
    "  "
   ]
  },
  {
   "cell_type": "markdown",
   "id": "9aa7151b",
   "metadata": {},
   "source": [
    "### Question 9"
   ]
  },
  {
   "cell_type": "code",
   "execution_count": 75,
   "id": "3b96828d",
   "metadata": {},
   "outputs": [],
   "source": [
    "words = ['The', 'quick', 'brown', 'fox', 'jumps', 'over', 'the', 'lazy', 'dog']"
   ]
  },
  {
   "cell_type": "code",
   "execution_count": 79,
   "id": "592ee57a",
   "metadata": {},
   "outputs": [],
   "source": [
    "upper_words = [word.upper() for word in words];\n",
    "lower_words = [word.lower() for word in words];\n",
    "word_lengths = [len(word) for word in words];\n",
    "word_info = [[word.upper(), word.lower(), len(word)] for word in words];\n",
    "long_words = [word for word in words if len(word) >= 4]\n"
   ]
  },
  {
   "cell_type": "code",
   "execution_count": 87,
   "id": "116ca04f",
   "metadata": {},
   "outputs": [
    {
     "name": "stdout",
     "output_type": "stream",
     "text": [
      "['THE', 'QUICK', 'BROWN', 'FOX', 'JUMPS', 'OVER', 'THE', 'LAZY', 'DOG']\n",
      "\n",
      "\n",
      "['the', 'quick', 'brown', 'fox', 'jumps', 'over', 'the', 'lazy', 'dog']\n",
      "\n",
      "\n",
      "[3, 5, 5, 3, 5, 4, 3, 4, 3]\n",
      "\n",
      "\n",
      "[['THE', 'the', 3], ['QUICK', 'quick', 5], ['BROWN', 'brown', 5], ['FOX', 'fox', 3], ['JUMPS', 'jumps', 5], ['OVER', 'over', 4], ['THE', 'the', 3], ['LAZY', 'lazy', 4], ['DOG', 'dog', 3]]\n",
      "\n",
      "\n",
      "['quick', 'brown', 'jumps', 'over', 'lazy']\n"
     ]
    }
   ],
   "source": [
    "print(upper_words)\n",
    "print(\"\\n\")\n",
    "print(lower_words)\n",
    "print(\"\\n\")\n",
    "print(word_lengths)\n",
    "print(\"\\n\")\n",
    "print(word_info)\n",
    "print(\"\\n\")\n",
    "print(long_words)"
   ]
  }
 ],
 "metadata": {
  "kernelspec": {
   "display_name": "Python 3 (ipykernel)",
   "language": "python",
   "name": "python3"
  },
  "language_info": {
   "codemirror_mode": {
    "name": "ipython",
    "version": 3
   },
   "file_extension": ".py",
   "mimetype": "text/x-python",
   "name": "python",
   "nbconvert_exporter": "python",
   "pygments_lexer": "ipython3",
   "version": "3.9.13"
  }
 },
 "nbformat": 4,
 "nbformat_minor": 5
}
